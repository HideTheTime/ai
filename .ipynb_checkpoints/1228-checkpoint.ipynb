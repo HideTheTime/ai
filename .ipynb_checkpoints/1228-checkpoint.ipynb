{
 "cells": [
  {
   "cell_type": "code",
   "execution_count": 3,
   "metadata": {},
   "outputs": [
    {
     "name": "stdout",
     "output_type": "stream",
     "text": [
      "1\n"
     ]
    }
   ],
   "source": [
    "print(1)"
   ]
  },
  {
   "cell_type": "code",
   "execution_count": 6,
   "metadata": {},
   "outputs": [
    {
     "name": "stdout",
     "output_type": "stream",
     "text": [
      "<module 'pandas' from 'd:\\\\python11\\\\lib\\\\site-packages\\\\pandas\\\\__init__.py'>\n"
     ]
    }
   ],
   "source": [
    "import pandas as pd\n",
    "print(pd)"
   ]
  },
  {
   "cell_type": "code",
   "execution_count": 7,
   "metadata": {},
   "outputs": [
    {
     "name": "stdout",
     "output_type": "stream",
     "text": [
      "     x    y\n",
      "0  -10  100\n",
      "1   -9   81\n",
      "2   -8   64\n",
      "3   -7   49\n",
      "4   -6   36\n",
      "5   -5   25\n",
      "6   -4   16\n",
      "7   -3    9\n",
      "8   -2    4\n",
      "9   -1    1\n",
      "10   0    0\n",
      "11   1    1\n",
      "12   2    4\n",
      "13   3    9\n",
      "14   4   16\n",
      "15   5   25\n",
      "16   6   36\n",
      "17   7   49\n",
      "18   8   64\n",
      "19   9   81\n",
      "20  10  100\n"
     ]
    }
   ],
   "source": [
    "data = pd.read_csv('data.csv')\n",
    "print(data)"
   ]
  }
 ],
 "metadata": {
  "kernelspec": {
   "display_name": "Python 3",
   "language": "python",
   "name": "python3"
  },
  "language_info": {
   "codemirror_mode": {
    "name": "ipython",
    "version": 3
   },
   "file_extension": ".py",
   "mimetype": "text/x-python",
   "name": "python",
   "nbconvert_exporter": "python",
   "pygments_lexer": "ipython3",
   "version": "3.8.2"
  }
 },
 "nbformat": 4,
 "nbformat_minor": 4
}
